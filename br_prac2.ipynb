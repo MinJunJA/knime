{
  "nbformat": 4,
  "nbformat_minor": 0,
  "metadata": {
    "colab": {
      "provenance": [],
      "authorship_tag": "ABX9TyMxjaIXoScOVLtU4uCUl/Ih",
      "include_colab_link": true
    },
    "kernelspec": {
      "name": "python3",
      "display_name": "Python 3"
    },
    "language_info": {
      "name": "python"
    }
  },
  "cells": [
    {
      "cell_type": "markdown",
      "metadata": {
        "id": "view-in-github",
        "colab_type": "text"
      },
      "source": [
        "<a href=\"https://colab.research.google.com/github/MinJunJA/knime/blob/master/br_prac2.ipynb\" target=\"_parent\"><img src=\"https://colab.research.google.com/assets/colab-badge.svg\" alt=\"Open In Colab\"/></a>"
      ]
    },
    {
      "cell_type": "code",
      "source": [
        "#csv reader\n",
        "\n",
        "import pandas as pd\n",
        "\n",
        "# .data 파일의 경로 설정\n",
        "data_file_path = '/content/breast-cancer-wisconsin.data'\n",
        "\n",
        "# .data 파일을 읽어와 DataFrame으로 변환\n",
        "data = pd.read_csv(data_file_path, header=None)\n",
        "\n",
        "# .csv 파일로 저장\n",
        "csv_file_path = '/content/breast_cancer_data.csv'\n",
        "data.to_csv(csv_file_path, index=False)"
      ],
      "metadata": {
        "id": "6BHgUr9OySLf"
      },
      "execution_count": 13,
      "outputs": []
    },
    {
      "cell_type": "code",
      "source": [
        "#컬럼명 설정\n",
        "import pandas as pd\n",
        "\n",
        "csv_file_path = '/content/breast_cancer_data.csv'\n",
        "\n",
        "new_columns = ['ID', 'Clump Thickness', 'Uniformity of Cell Size', 'Uniformity of Cell Shape',\n",
        "               'Marginal Adhesion', 'Single Epithelial Cell Size', 'Bare Nuclei',\n",
        "               'Bland Chromatin', 'Normal Nucleoli', 'Mitoses', 'Class']\n",
        "\n",
        "data = pd.read_csv(csv_file_path)\n",
        "\n",
        "data.columns = new_columns\n",
        "\n",
        "print(data.head())  # 변경된 컬럼명을 확인하기 위해 데이터 일부 출력\n",
        "\n",
        "data.to_csv(csv_file_path, index=False)"
      ],
      "metadata": {
        "colab": {
          "base_uri": "https://localhost:8080/"
        },
        "id": "JjUPQ05Cyxiu",
        "outputId": "9babaa31-551c-4b29-e658-67d9a2132af0"
      },
      "execution_count": 14,
      "outputs": [
        {
          "output_type": "stream",
          "name": "stdout",
          "text": [
            "        ID  Clump Thickness  Uniformity of Cell Size  \\\n",
            "0  1000025                5                        1   \n",
            "1  1002945                5                        4   \n",
            "2  1015425                3                        1   \n",
            "3  1016277                6                        8   \n",
            "4  1017023                4                        1   \n",
            "\n",
            "   Uniformity of Cell Shape  Marginal Adhesion  Single Epithelial Cell Size  \\\n",
            "0                         1                  1                            2   \n",
            "1                         4                  5                            7   \n",
            "2                         1                  1                            2   \n",
            "3                         8                  1                            3   \n",
            "4                         1                  3                            2   \n",
            "\n",
            "  Bare Nuclei  Bland Chromatin  Normal Nucleoli  Mitoses  Class  \n",
            "0           1                3                1        1      2  \n",
            "1          10                3                2        1      2  \n",
            "2           2                3                1        1      2  \n",
            "3           4                3                7        1      2  \n",
            "4           1                3                1        1      2  \n"
          ]
        }
      ]
    },
    {
      "cell_type": "code",
      "source": [
        "#결측값처리\n",
        "import numpy as np\n",
        "df = pd.read_csv('/content/breast_cancer_data.csv')\n",
        "\n",
        "df['Bare Nuclei'].replace('?', np.nan, inplace=True)\n",
        "df.dropna(subset=['Bare Nuclei'], axis=0, inplace=True)"
      ],
      "metadata": {
        "id": "3hnbLMyVy8h3"
      },
      "execution_count": 15,
      "outputs": []
    },
    {
      "cell_type": "code",
      "source": [
        "#value counter\n",
        "\n",
        "print(df['Bare Nuclei'].value_counts())"
      ],
      "metadata": {
        "colab": {
          "base_uri": "https://localhost:8080/"
        },
        "id": "xK4t1-XIz1MT",
        "outputId": "66eb0921-b922-4e7d-ee1b-8d5a868ac6b2"
      },
      "execution_count": 16,
      "outputs": [
        {
          "output_type": "stream",
          "name": "stdout",
          "text": [
            "1     402\n",
            "10    132\n",
            "2      30\n",
            "5      30\n",
            "3      28\n",
            "8      21\n",
            "4      19\n",
            "9       9\n",
            "7       8\n",
            "6       4\n",
            "Name: Bare Nuclei, dtype: int64\n"
          ]
        }
      ]
    },
    {
      "cell_type": "code",
      "source": [
        "#type변경\n",
        "df['Bare Nuclei'] = df['Bare Nuclei'].astype('int')\n",
        "print(df.info(), '\\n')"
      ],
      "metadata": {
        "colab": {
          "base_uri": "https://localhost:8080/"
        },
        "id": "TQ5LaOA1zUb4",
        "outputId": "d082f764-c7b5-4d4d-98cf-d720d67e04b8"
      },
      "execution_count": 17,
      "outputs": [
        {
          "output_type": "stream",
          "name": "stdout",
          "text": [
            "<class 'pandas.core.frame.DataFrame'>\n",
            "Int64Index: 683 entries, 0 to 698\n",
            "Data columns (total 11 columns):\n",
            " #   Column                       Non-Null Count  Dtype\n",
            "---  ------                       --------------  -----\n",
            " 0   ID                           683 non-null    int64\n",
            " 1   Clump Thickness              683 non-null    int64\n",
            " 2   Uniformity of Cell Size      683 non-null    int64\n",
            " 3   Uniformity of Cell Shape     683 non-null    int64\n",
            " 4   Marginal Adhesion            683 non-null    int64\n",
            " 5   Single Epithelial Cell Size  683 non-null    int64\n",
            " 6   Bare Nuclei                  683 non-null    int64\n",
            " 7   Bland Chromatin              683 non-null    int64\n",
            " 8   Normal Nucleoli              683 non-null    int64\n",
            " 9   Mitoses                      683 non-null    int64\n",
            " 10  Class                        683 non-null    int64\n",
            "dtypes: int64(11)\n",
            "memory usage: 64.0 KB\n",
            "None \n",
            "\n"
          ]
        }
      ]
    },
    {
      "cell_type": "code",
      "source": [
        "#'id'제거\n",
        "\n",
        "X = df[['Clump Thickness', 'Uniformity of Cell Size', 'Uniformity of Cell Shape', 'Marginal Adhesion', 'Single Epithelial Cell Size', 'Bare Nuclei', 'Bland Chromatin', 'Normal Nucleoli', 'Mitoses']]\n",
        "Y = df['Class']"
      ],
      "metadata": {
        "id": "84fulRqo0B6K"
      },
      "execution_count": 18,
      "outputs": []
    },
    {
      "cell_type": "code",
      "source": [
        "#Normalizer\n",
        "\n",
        "from sklearn.preprocessing import MinMaxScaler\n",
        "scaler = MinMaxScaler()\n",
        "X = scaler.fit_transform(X)"
      ],
      "metadata": {
        "id": "ThJ8eb3i0T3U"
      },
      "execution_count": 20,
      "outputs": []
    },
    {
      "cell_type": "code",
      "source": [
        "#Partitioning\n",
        "\n",
        "from sklearn.model_selection import train_test_split\n",
        "X_train, X_test, y_train, y_test = train_test_split(X, Y, test_size=0.3, random_state=10)"
      ],
      "metadata": {
        "id": "I3UCHgwm0eXl"
      },
      "execution_count": 22,
      "outputs": []
    },
    {
      "cell_type": "code",
      "source": [
        "#모델링\n",
        "\n",
        "from sklearn import tree\n",
        "tree_model = tree.DecisionTreeClassifier(criterion='entropy', max_depth=5)\n",
        "tree_model.fit(X_train, y_train)\n",
        "y_pred = tree_model.predict(X_test)"
      ],
      "metadata": {
        "id": "jkhmk1bz0klI"
      },
      "execution_count": 23,
      "outputs": []
    },
    {
      "cell_type": "code",
      "source": [
        "#Scorer\n",
        "\n",
        "from sklearn import metrics\n",
        "matrix = metrics.confusion_matrix(y_test, y_pred)\n",
        "print(matrix)\n",
        "\n",
        "report = metrics.classification_report(y_test, y_pred)\n",
        "print(report)"
      ],
      "metadata": {
        "colab": {
          "base_uri": "https://localhost:8080/"
        },
        "id": "LiH8aOEK0yAD",
        "outputId": "031cb935-6489-4704-cc24-3f3e55b7049c"
      },
      "execution_count": 24,
      "outputs": [
        {
          "output_type": "stream",
          "name": "stdout",
          "text": [
            "[[127   4]\n",
            " [  2  72]]\n",
            "              precision    recall  f1-score   support\n",
            "\n",
            "           2       0.98      0.97      0.98       131\n",
            "           4       0.95      0.97      0.96        74\n",
            "\n",
            "    accuracy                           0.97       205\n",
            "   macro avg       0.97      0.97      0.97       205\n",
            "weighted avg       0.97      0.97      0.97       205\n",
            "\n"
          ]
        }
      ]
    },
    {
      "cell_type": "code",
      "source": [
        "from sklearn.metrics import accuracy_score\n",
        "\n",
        "# 정확도 계산\n",
        "accuracy = accuracy_score(y_test, y_pred)\n",
        "print(\"Accuracy:\", accuracy)"
      ],
      "metadata": {
        "colab": {
          "base_uri": "https://localhost:8080/"
        },
        "id": "GS4-Tkxg04Ld",
        "outputId": "01c0968d-3310-4a12-903d-02f61d5dd46c"
      },
      "execution_count": 25,
      "outputs": [
        {
          "output_type": "stream",
          "name": "stdout",
          "text": [
            "Accuracy: 0.9707317073170731\n"
          ]
        }
      ]
    },
    {
      "cell_type": "code",
      "source": [
        "#csv reader\n",
        "\n",
        "import pandas as pd\n",
        "\n",
        "# .data 파일의 경로 설정\n",
        "data_file_path = '/content/breast-cancer-wisconsin.data'\n",
        "\n",
        "# .data 파일을 읽어와 DataFrame으로 변환\n",
        "data = pd.read_csv(data_file_path, header=None)\n",
        "\n",
        "# .csv 파일로 저장\n",
        "csv_file_path = '/content/breast_cancer_data.csv'\n",
        "data.to_csv(csv_file_path, index=False)\n",
        "\n",
        "#컬럼명 설정\n",
        "import pandas as pd\n",
        "\n",
        "csv_file_path = '/content/breast_cancer_data.csv'\n",
        "\n",
        "new_columns = ['ID', 'Clump Thickness', 'Uniformity of Cell Size', 'Uniformity of Cell Shape',\n",
        "               'Marginal Adhesion', 'Single Epithelial Cell Size', 'Bare Nuclei',\n",
        "               'Bland Chromatin', 'Normal Nucleoli', 'Mitoses', 'Class']\n",
        "\n",
        "data = pd.read_csv(csv_file_path)\n",
        "\n",
        "data.columns = new_columns\n",
        "\n",
        "#print(data.head())  # 변경된 컬럼명을 확인하기 위해 데이터 일부 출력\n",
        "\n",
        "data.to_csv(csv_file_path, index=False)\n",
        "\n",
        "#결측값처리\n",
        "import numpy as np\n",
        "df = pd.read_csv('/content/breast_cancer_data.csv')\n",
        "\n",
        "df['Bare Nuclei'].replace('?', np.nan, inplace=True)\n",
        "df.dropna(subset=['Bare Nuclei'], axis=0, inplace=True)\n",
        "\n",
        "#value counter\n",
        "\n",
        "#print(df['Bare Nuclei'].value_counts())\n",
        "\n",
        "#type변경\n",
        "df['Bare Nuclei'] = df['Bare Nuclei'].astype('int')\n",
        "#print(df.info(), '\\n')\n",
        "\n",
        "#'id'제거\n",
        "\n",
        "X = df[['Clump Thickness', 'Uniformity of Cell Size', 'Uniformity of Cell Shape', 'Marginal Adhesion', 'Single Epithelial Cell Size', 'Bare Nuclei', 'Bland Chromatin', 'Normal Nucleoli', 'Mitoses']]\n",
        "Y = df['Class']\n",
        "\n",
        "#Normalizer\n",
        "\n",
        "from sklearn.preprocessing import MinMaxScaler\n",
        "scaler = MinMaxScaler()\n",
        "X = scaler.fit_transform(X)\n",
        "\n",
        "#Partitioning\n",
        "\n",
        "from sklearn.model_selection import train_test_split\n",
        "X_train, X_test, y_train, y_test = train_test_split(X, Y, test_size=0.3, random_state=10)\n",
        "\n",
        "#모델링\n",
        "\n",
        "from sklearn import tree\n",
        "tree_model = tree.DecisionTreeClassifier(criterion='entropy', max_depth=5)\n",
        "tree_model.fit(X_train, y_train)\n",
        "y_pred = tree_model.predict(X_test)\n",
        "\n",
        "#Scorer\n",
        "\n",
        "from sklearn import metrics\n",
        "matrix = metrics.confusion_matrix(y_test, y_pred)\n",
        "print(matrix)\n",
        "\n",
        "report = metrics.classification_report(y_test, y_pred)\n",
        "print(report)\n",
        "\n",
        "from sklearn.metrics import accuracy_score\n",
        "\n",
        "# 정확도 계산\n",
        "accuracy = accuracy_score(y_test, y_pred)\n",
        "print(\"Accuracy:\", accuracy)"
      ],
      "metadata": {
        "colab": {
          "base_uri": "https://localhost:8080/"
        },
        "id": "EgbBelrx08Gf",
        "outputId": "44c2d4ee-40c6-4647-92f4-d57deff4f55c"
      },
      "execution_count": 29,
      "outputs": [
        {
          "output_type": "stream",
          "name": "stdout",
          "text": [
            "[[127   4]\n",
            " [  2  72]]\n",
            "              precision    recall  f1-score   support\n",
            "\n",
            "           2       0.98      0.97      0.98       131\n",
            "           4       0.95      0.97      0.96        74\n",
            "\n",
            "    accuracy                           0.97       205\n",
            "   macro avg       0.97      0.97      0.97       205\n",
            "weighted avg       0.97      0.97      0.97       205\n",
            "\n",
            "Accuracy: 0.9707317073170731\n"
          ]
        }
      ]
    },
    {
      "cell_type": "code",
      "source": [
        "#랜덤포레스트\n",
        "from sklearn.ensemble import RandomForestClassifier\n",
        "from sklearn.metrics import confusion_matrix, classification_report\n",
        "from sklearn.model_selection import train_test_split\n",
        "from sklearn.preprocessing import MinMaxScaler\n",
        "\n",
        "import pandas as pd\n",
        "\n",
        "csv_file_path = '/content/breast_cancer_data.csv'\n",
        "\n",
        "new_columns = ['ID', 'Clump Thickness', 'Uniformity of Cell Size', 'Uniformity of Cell Shape',\n",
        "               'Marginal Adhesion', 'Single Epithelial Cell Size', 'Bare Nuclei',\n",
        "               'Bland Chromatin', 'Normal Nucleoli', 'Mitoses', 'Class']\n",
        "\n",
        "data = pd.read_csv(csv_file_path)\n",
        "\n",
        "data.columns = new_columns\n",
        "\n",
        "data.to_csv(csv_file_path, index=False)\n",
        "\n",
        "df = pd.read_csv('/content/breast_cancer_data.csv')\n",
        "df['Bare Nuclei'].replace('?', np.nan, inplace=True)\n",
        "df.dropna(subset=['Bare Nuclei'], axis=0, inplace=True)\n",
        "df['Bare Nuclei'] = df['Bare Nuclei'].astype('int')\n",
        "\n",
        "X = df[['Clump Thickness', 'Uniformity of Cell Size', 'Uniformity of Cell Shape',\n",
        "        'Marginal Adhesion', 'Single Epithelial Cell Size', 'Bare Nuclei',\n",
        "        'Bland Chromatin', 'Normal Nucleoli', 'Mitoses']]\n",
        "Y = df['Class']\n",
        "\n",
        "from sklearn.preprocessing import MinMaxScaler\n",
        "scaler = MinMaxScaler()\n",
        "X = scaler.fit_transform(X)\n",
        "\n",
        "X_train, X_test, y_train, y_test = train_test_split(X, Y, test_size=0.3, random_state=10)\n",
        "\n",
        "rf_model = RandomForestClassifier(n_estimators=100, random_state=10)\n",
        "rf_model.fit(X_train, y_train)\n",
        "\n",
        "\n",
        "y_pred = rf_model.predict(X_test)\n",
        "\n",
        "# 모델 평가\n",
        "matrix = confusion_matrix(y_test, y_pred)\n",
        "print(\"Confusion Matrix:\")\n",
        "print(matrix)\n",
        "\n",
        "report = classification_report(y_test, y_pred)\n",
        "print(\"Classification Report:\")\n",
        "print(report)\n",
        "\n",
        "# 정확도 계산\n",
        "accuracy = accuracy_score(y_test, y_pred)\n",
        "print(\"Accuracy:\", accuracy)\n"
      ],
      "metadata": {
        "colab": {
          "base_uri": "https://localhost:8080/"
        },
        "id": "Vzzndhbc1UAD",
        "outputId": "e38677f7-0650-4694-c0fa-fcbe1618e1bc"
      },
      "execution_count": 30,
      "outputs": [
        {
          "output_type": "stream",
          "name": "stdout",
          "text": [
            "Confusion Matrix:\n",
            "[[129   2]\n",
            " [  2  72]]\n",
            "Classification Report:\n",
            "              precision    recall  f1-score   support\n",
            "\n",
            "           2       0.98      0.98      0.98       131\n",
            "           4       0.97      0.97      0.97        74\n",
            "\n",
            "    accuracy                           0.98       205\n",
            "   macro avg       0.98      0.98      0.98       205\n",
            "weighted avg       0.98      0.98      0.98       205\n",
            "\n",
            "Accuracy: 0.9804878048780488\n"
          ]
        }
      ]
    },
    {
      "cell_type": "code",
      "source": [],
      "metadata": {
        "id": "JiR7eIjV1sAj"
      },
      "execution_count": null,
      "outputs": []
    }
  ]
}